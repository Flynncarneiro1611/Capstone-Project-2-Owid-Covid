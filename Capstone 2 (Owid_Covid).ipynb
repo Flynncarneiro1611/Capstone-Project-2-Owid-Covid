{
 "cells": [
  {
   "cell_type": "code",
   "execution_count": 1,
   "metadata": {},
   "outputs": [],
   "source": [
    "import os"
   ]
  },
  {
   "cell_type": "code",
   "execution_count": 2,
   "metadata": {},
   "outputs": [
    {
     "data": {
      "text/plain": [
       "'C:\\\\Users\\\\Dell\\\\Capstone Project'"
      ]
     },
     "execution_count": 2,
     "metadata": {},
     "output_type": "execute_result"
    }
   ],
   "source": [
    "os.getcwd()"
   ]
  },
  {
   "cell_type": "code",
   "execution_count": 3,
   "metadata": {},
   "outputs": [],
   "source": [
    "os.chdir('C:\\\\Users\\\\Dell')"
   ]
  },
  {
   "cell_type": "code",
   "execution_count": 4,
   "metadata": {},
   "outputs": [
    {
     "data": {
      "text/plain": [
       "'C:\\\\Users\\\\Dell'"
      ]
     },
     "execution_count": 4,
     "metadata": {},
     "output_type": "execute_result"
    }
   ],
   "source": [
    "os.getcwd()"
   ]
  },
  {
   "cell_type": "code",
   "execution_count": 5,
   "metadata": {},
   "outputs": [],
   "source": [
    "import numpy as np\n",
    "import pandas as pd\n",
    "import matplotlib.pyplot as plt\n",
    "%matplotlib inline\n",
    "import seaborn as sns"
   ]
  },
  {
   "cell_type": "code",
   "execution_count": 6,
   "metadata": {},
   "outputs": [],
   "source": [
    "covid=pd.read_csv(\"Owid_Covid_Data.csv\")"
   ]
  },
  {
   "cell_type": "code",
   "execution_count": 7,
   "metadata": {},
   "outputs": [],
   "source": [
    "covid=covid.drop(columns=['new_cases_smoothed','new_deaths_smoothed','new_cases_smoothed_per_million','new_deaths_smoothed_per_million',\n",
    "                   'positive_rate','human_development_index'])"
   ]
  },
  {
   "cell_type": "code",
   "execution_count": 8,
   "metadata": {},
   "outputs": [
    {
     "data": {
      "text/html": [
       "<div>\n",
       "<style scoped>\n",
       "    .dataframe tbody tr th:only-of-type {\n",
       "        vertical-align: middle;\n",
       "    }\n",
       "\n",
       "    .dataframe tbody tr th {\n",
       "        vertical-align: top;\n",
       "    }\n",
       "\n",
       "    .dataframe thead th {\n",
       "        text-align: right;\n",
       "    }\n",
       "</style>\n",
       "<table border=\"1\" class=\"dataframe\">\n",
       "  <thead>\n",
       "    <tr style=\"text-align: right;\">\n",
       "      <th></th>\n",
       "      <th>iso_code</th>\n",
       "      <th>continent</th>\n",
       "      <th>location</th>\n",
       "      <th>date</th>\n",
       "      <th>total_cases</th>\n",
       "      <th>new_cases</th>\n",
       "      <th>total_deaths</th>\n",
       "      <th>new_deaths</th>\n",
       "      <th>total_cases_per_million</th>\n",
       "      <th>new_cases_per_million</th>\n",
       "      <th>...</th>\n",
       "      <th>aged_70_older</th>\n",
       "      <th>gdp_per_capita</th>\n",
       "      <th>extreme_poverty</th>\n",
       "      <th>cardiovasc_death_rate</th>\n",
       "      <th>diabetes_prevalence</th>\n",
       "      <th>female_smokers</th>\n",
       "      <th>male_smokers</th>\n",
       "      <th>handwashing_facilities</th>\n",
       "      <th>hospital_beds_per_thousand</th>\n",
       "      <th>life_expectancy</th>\n",
       "    </tr>\n",
       "  </thead>\n",
       "  <tbody>\n",
       "    <tr>\n",
       "      <td>0</td>\n",
       "      <td>ABW</td>\n",
       "      <td>North America</td>\n",
       "      <td>Aruba</td>\n",
       "      <td>2020-03-13</td>\n",
       "      <td>2.0</td>\n",
       "      <td>2.0</td>\n",
       "      <td>0.0</td>\n",
       "      <td>0.0</td>\n",
       "      <td>18.733</td>\n",
       "      <td>18.733</td>\n",
       "      <td>...</td>\n",
       "      <td>7.452</td>\n",
       "      <td>35973.781</td>\n",
       "      <td>NaN</td>\n",
       "      <td>NaN</td>\n",
       "      <td>11.62</td>\n",
       "      <td>NaN</td>\n",
       "      <td>NaN</td>\n",
       "      <td>NaN</td>\n",
       "      <td>NaN</td>\n",
       "      <td>76.29</td>\n",
       "    </tr>\n",
       "    <tr>\n",
       "      <td>1</td>\n",
       "      <td>ABW</td>\n",
       "      <td>North America</td>\n",
       "      <td>Aruba</td>\n",
       "      <td>2020-03-19</td>\n",
       "      <td>NaN</td>\n",
       "      <td>NaN</td>\n",
       "      <td>NaN</td>\n",
       "      <td>NaN</td>\n",
       "      <td>NaN</td>\n",
       "      <td>NaN</td>\n",
       "      <td>...</td>\n",
       "      <td>7.452</td>\n",
       "      <td>35973.781</td>\n",
       "      <td>NaN</td>\n",
       "      <td>NaN</td>\n",
       "      <td>11.62</td>\n",
       "      <td>NaN</td>\n",
       "      <td>NaN</td>\n",
       "      <td>NaN</td>\n",
       "      <td>NaN</td>\n",
       "      <td>76.29</td>\n",
       "    </tr>\n",
       "    <tr>\n",
       "      <td>2</td>\n",
       "      <td>ABW</td>\n",
       "      <td>North America</td>\n",
       "      <td>Aruba</td>\n",
       "      <td>2020-03-20</td>\n",
       "      <td>4.0</td>\n",
       "      <td>2.0</td>\n",
       "      <td>0.0</td>\n",
       "      <td>0.0</td>\n",
       "      <td>37.465</td>\n",
       "      <td>18.733</td>\n",
       "      <td>...</td>\n",
       "      <td>7.452</td>\n",
       "      <td>35973.781</td>\n",
       "      <td>NaN</td>\n",
       "      <td>NaN</td>\n",
       "      <td>11.62</td>\n",
       "      <td>NaN</td>\n",
       "      <td>NaN</td>\n",
       "      <td>NaN</td>\n",
       "      <td>NaN</td>\n",
       "      <td>76.29</td>\n",
       "    </tr>\n",
       "    <tr>\n",
       "      <td>3</td>\n",
       "      <td>ABW</td>\n",
       "      <td>North America</td>\n",
       "      <td>Aruba</td>\n",
       "      <td>2020-03-21</td>\n",
       "      <td>NaN</td>\n",
       "      <td>NaN</td>\n",
       "      <td>NaN</td>\n",
       "      <td>NaN</td>\n",
       "      <td>NaN</td>\n",
       "      <td>NaN</td>\n",
       "      <td>...</td>\n",
       "      <td>7.452</td>\n",
       "      <td>35973.781</td>\n",
       "      <td>NaN</td>\n",
       "      <td>NaN</td>\n",
       "      <td>11.62</td>\n",
       "      <td>NaN</td>\n",
       "      <td>NaN</td>\n",
       "      <td>NaN</td>\n",
       "      <td>NaN</td>\n",
       "      <td>76.29</td>\n",
       "    </tr>\n",
       "    <tr>\n",
       "      <td>4</td>\n",
       "      <td>ABW</td>\n",
       "      <td>North America</td>\n",
       "      <td>Aruba</td>\n",
       "      <td>2020-03-22</td>\n",
       "      <td>NaN</td>\n",
       "      <td>NaN</td>\n",
       "      <td>NaN</td>\n",
       "      <td>NaN</td>\n",
       "      <td>NaN</td>\n",
       "      <td>NaN</td>\n",
       "      <td>...</td>\n",
       "      <td>7.452</td>\n",
       "      <td>35973.781</td>\n",
       "      <td>NaN</td>\n",
       "      <td>NaN</td>\n",
       "      <td>11.62</td>\n",
       "      <td>NaN</td>\n",
       "      <td>NaN</td>\n",
       "      <td>NaN</td>\n",
       "      <td>NaN</td>\n",
       "      <td>76.29</td>\n",
       "    </tr>\n",
       "  </tbody>\n",
       "</table>\n",
       "<p>5 rows × 35 columns</p>\n",
       "</div>"
      ],
      "text/plain": [
       "  iso_code      continent location        date  total_cases  new_cases  \\\n",
       "0      ABW  North America    Aruba  2020-03-13          2.0        2.0   \n",
       "1      ABW  North America    Aruba  2020-03-19          NaN        NaN   \n",
       "2      ABW  North America    Aruba  2020-03-20          4.0        2.0   \n",
       "3      ABW  North America    Aruba  2020-03-21          NaN        NaN   \n",
       "4      ABW  North America    Aruba  2020-03-22          NaN        NaN   \n",
       "\n",
       "   total_deaths  new_deaths  total_cases_per_million  new_cases_per_million  \\\n",
       "0           0.0         0.0                   18.733                 18.733   \n",
       "1           NaN         NaN                      NaN                    NaN   \n",
       "2           0.0         0.0                   37.465                 18.733   \n",
       "3           NaN         NaN                      NaN                    NaN   \n",
       "4           NaN         NaN                      NaN                    NaN   \n",
       "\n",
       "   ...  aged_70_older  gdp_per_capita  extreme_poverty  cardiovasc_death_rate  \\\n",
       "0  ...          7.452       35973.781              NaN                    NaN   \n",
       "1  ...          7.452       35973.781              NaN                    NaN   \n",
       "2  ...          7.452       35973.781              NaN                    NaN   \n",
       "3  ...          7.452       35973.781              NaN                    NaN   \n",
       "4  ...          7.452       35973.781              NaN                    NaN   \n",
       "\n",
       "   diabetes_prevalence  female_smokers  male_smokers  handwashing_facilities  \\\n",
       "0                11.62             NaN           NaN                     NaN   \n",
       "1                11.62             NaN           NaN                     NaN   \n",
       "2                11.62             NaN           NaN                     NaN   \n",
       "3                11.62             NaN           NaN                     NaN   \n",
       "4                11.62             NaN           NaN                     NaN   \n",
       "\n",
       "   hospital_beds_per_thousand life_expectancy  \n",
       "0                         NaN           76.29  \n",
       "1                         NaN           76.29  \n",
       "2                         NaN           76.29  \n",
       "3                         NaN           76.29  \n",
       "4                         NaN           76.29  \n",
       "\n",
       "[5 rows x 35 columns]"
      ]
     },
     "execution_count": 8,
     "metadata": {},
     "output_type": "execute_result"
    }
   ],
   "source": [
    "covid.head()"
   ]
  },
  {
   "cell_type": "code",
   "execution_count": 9,
   "metadata": {},
   "outputs": [
    {
     "data": {
      "text/plain": [
       "(48380, 35)"
      ]
     },
     "execution_count": 9,
     "metadata": {},
     "output_type": "execute_result"
    }
   ],
   "source": [
    "covid.shape"
   ]
  },
  {
   "cell_type": "code",
   "execution_count": 10,
   "metadata": {},
   "outputs": [],
   "source": [
    "covid=covid[covid[\"location\"]==\"India\"]                                    #Subsetting Rows"
   ]
  },
  {
   "cell_type": "code",
   "execution_count": 11,
   "metadata": {},
   "outputs": [
    {
     "data": {
      "text/html": [
       "<div>\n",
       "<style scoped>\n",
       "    .dataframe tbody tr th:only-of-type {\n",
       "        vertical-align: middle;\n",
       "    }\n",
       "\n",
       "    .dataframe tbody tr th {\n",
       "        vertical-align: top;\n",
       "    }\n",
       "\n",
       "    .dataframe thead th {\n",
       "        text-align: right;\n",
       "    }\n",
       "</style>\n",
       "<table border=\"1\" class=\"dataframe\">\n",
       "  <thead>\n",
       "    <tr style=\"text-align: right;\">\n",
       "      <th></th>\n",
       "      <th>iso_code</th>\n",
       "      <th>continent</th>\n",
       "      <th>location</th>\n",
       "      <th>date</th>\n",
       "      <th>total_cases</th>\n",
       "      <th>new_cases</th>\n",
       "      <th>total_deaths</th>\n",
       "      <th>new_deaths</th>\n",
       "      <th>total_cases_per_million</th>\n",
       "      <th>new_cases_per_million</th>\n",
       "      <th>...</th>\n",
       "      <th>aged_70_older</th>\n",
       "      <th>gdp_per_capita</th>\n",
       "      <th>extreme_poverty</th>\n",
       "      <th>cardiovasc_death_rate</th>\n",
       "      <th>diabetes_prevalence</th>\n",
       "      <th>female_smokers</th>\n",
       "      <th>male_smokers</th>\n",
       "      <th>handwashing_facilities</th>\n",
       "      <th>hospital_beds_per_thousand</th>\n",
       "      <th>life_expectancy</th>\n",
       "    </tr>\n",
       "  </thead>\n",
       "  <tbody>\n",
       "    <tr>\n",
       "      <td>20625</td>\n",
       "      <td>IND</td>\n",
       "      <td>Asia</td>\n",
       "      <td>India</td>\n",
       "      <td>2019-12-31</td>\n",
       "      <td>0.0</td>\n",
       "      <td>0.0</td>\n",
       "      <td>0.0</td>\n",
       "      <td>0.0</td>\n",
       "      <td>0.0</td>\n",
       "      <td>0.0</td>\n",
       "      <td>...</td>\n",
       "      <td>3.414</td>\n",
       "      <td>6426.674</td>\n",
       "      <td>21.2</td>\n",
       "      <td>282.28</td>\n",
       "      <td>10.39</td>\n",
       "      <td>1.9</td>\n",
       "      <td>20.6</td>\n",
       "      <td>59.55</td>\n",
       "      <td>0.53</td>\n",
       "      <td>69.66</td>\n",
       "    </tr>\n",
       "    <tr>\n",
       "      <td>20626</td>\n",
       "      <td>IND</td>\n",
       "      <td>Asia</td>\n",
       "      <td>India</td>\n",
       "      <td>2020-01-01</td>\n",
       "      <td>0.0</td>\n",
       "      <td>0.0</td>\n",
       "      <td>0.0</td>\n",
       "      <td>0.0</td>\n",
       "      <td>0.0</td>\n",
       "      <td>0.0</td>\n",
       "      <td>...</td>\n",
       "      <td>3.414</td>\n",
       "      <td>6426.674</td>\n",
       "      <td>21.2</td>\n",
       "      <td>282.28</td>\n",
       "      <td>10.39</td>\n",
       "      <td>1.9</td>\n",
       "      <td>20.6</td>\n",
       "      <td>59.55</td>\n",
       "      <td>0.53</td>\n",
       "      <td>69.66</td>\n",
       "    </tr>\n",
       "    <tr>\n",
       "      <td>20627</td>\n",
       "      <td>IND</td>\n",
       "      <td>Asia</td>\n",
       "      <td>India</td>\n",
       "      <td>2020-01-02</td>\n",
       "      <td>0.0</td>\n",
       "      <td>0.0</td>\n",
       "      <td>0.0</td>\n",
       "      <td>0.0</td>\n",
       "      <td>0.0</td>\n",
       "      <td>0.0</td>\n",
       "      <td>...</td>\n",
       "      <td>3.414</td>\n",
       "      <td>6426.674</td>\n",
       "      <td>21.2</td>\n",
       "      <td>282.28</td>\n",
       "      <td>10.39</td>\n",
       "      <td>1.9</td>\n",
       "      <td>20.6</td>\n",
       "      <td>59.55</td>\n",
       "      <td>0.53</td>\n",
       "      <td>69.66</td>\n",
       "    </tr>\n",
       "    <tr>\n",
       "      <td>20628</td>\n",
       "      <td>IND</td>\n",
       "      <td>Asia</td>\n",
       "      <td>India</td>\n",
       "      <td>2020-01-03</td>\n",
       "      <td>0.0</td>\n",
       "      <td>0.0</td>\n",
       "      <td>0.0</td>\n",
       "      <td>0.0</td>\n",
       "      <td>0.0</td>\n",
       "      <td>0.0</td>\n",
       "      <td>...</td>\n",
       "      <td>3.414</td>\n",
       "      <td>6426.674</td>\n",
       "      <td>21.2</td>\n",
       "      <td>282.28</td>\n",
       "      <td>10.39</td>\n",
       "      <td>1.9</td>\n",
       "      <td>20.6</td>\n",
       "      <td>59.55</td>\n",
       "      <td>0.53</td>\n",
       "      <td>69.66</td>\n",
       "    </tr>\n",
       "    <tr>\n",
       "      <td>20629</td>\n",
       "      <td>IND</td>\n",
       "      <td>Asia</td>\n",
       "      <td>India</td>\n",
       "      <td>2020-01-04</td>\n",
       "      <td>0.0</td>\n",
       "      <td>0.0</td>\n",
       "      <td>0.0</td>\n",
       "      <td>0.0</td>\n",
       "      <td>0.0</td>\n",
       "      <td>0.0</td>\n",
       "      <td>...</td>\n",
       "      <td>3.414</td>\n",
       "      <td>6426.674</td>\n",
       "      <td>21.2</td>\n",
       "      <td>282.28</td>\n",
       "      <td>10.39</td>\n",
       "      <td>1.9</td>\n",
       "      <td>20.6</td>\n",
       "      <td>59.55</td>\n",
       "      <td>0.53</td>\n",
       "      <td>69.66</td>\n",
       "    </tr>\n",
       "  </tbody>\n",
       "</table>\n",
       "<p>5 rows × 35 columns</p>\n",
       "</div>"
      ],
      "text/plain": [
       "      iso_code continent location        date  total_cases  new_cases  \\\n",
       "20625      IND      Asia    India  2019-12-31          0.0        0.0   \n",
       "20626      IND      Asia    India  2020-01-01          0.0        0.0   \n",
       "20627      IND      Asia    India  2020-01-02          0.0        0.0   \n",
       "20628      IND      Asia    India  2020-01-03          0.0        0.0   \n",
       "20629      IND      Asia    India  2020-01-04          0.0        0.0   \n",
       "\n",
       "       total_deaths  new_deaths  total_cases_per_million  \\\n",
       "20625           0.0         0.0                      0.0   \n",
       "20626           0.0         0.0                      0.0   \n",
       "20627           0.0         0.0                      0.0   \n",
       "20628           0.0         0.0                      0.0   \n",
       "20629           0.0         0.0                      0.0   \n",
       "\n",
       "       new_cases_per_million  ...  aged_70_older  gdp_per_capita  \\\n",
       "20625                    0.0  ...          3.414        6426.674   \n",
       "20626                    0.0  ...          3.414        6426.674   \n",
       "20627                    0.0  ...          3.414        6426.674   \n",
       "20628                    0.0  ...          3.414        6426.674   \n",
       "20629                    0.0  ...          3.414        6426.674   \n",
       "\n",
       "       extreme_poverty  cardiovasc_death_rate  diabetes_prevalence  \\\n",
       "20625             21.2                 282.28                10.39   \n",
       "20626             21.2                 282.28                10.39   \n",
       "20627             21.2                 282.28                10.39   \n",
       "20628             21.2                 282.28                10.39   \n",
       "20629             21.2                 282.28                10.39   \n",
       "\n",
       "       female_smokers  male_smokers  handwashing_facilities  \\\n",
       "20625             1.9          20.6                   59.55   \n",
       "20626             1.9          20.6                   59.55   \n",
       "20627             1.9          20.6                   59.55   \n",
       "20628             1.9          20.6                   59.55   \n",
       "20629             1.9          20.6                   59.55   \n",
       "\n",
       "       hospital_beds_per_thousand life_expectancy  \n",
       "20625                        0.53           69.66  \n",
       "20626                        0.53           69.66  \n",
       "20627                        0.53           69.66  \n",
       "20628                        0.53           69.66  \n",
       "20629                        0.53           69.66  \n",
       "\n",
       "[5 rows x 35 columns]"
      ]
     },
     "execution_count": 11,
     "metadata": {},
     "output_type": "execute_result"
    }
   ],
   "source": [
    "covid.head()                                                               #Main DataFrame"
   ]
  },
  {
   "cell_type": "code",
   "execution_count": 12,
   "metadata": {},
   "outputs": [
    {
     "data": {
      "text/plain": [
       "(281, 35)"
      ]
     },
     "execution_count": 12,
     "metadata": {},
     "output_type": "execute_result"
    }
   ],
   "source": [
    "covid.shape"
   ]
  },
  {
   "cell_type": "markdown",
   "metadata": {},
   "source": [
    "# Step 1"
   ]
  },
  {
   "cell_type": "code",
   "execution_count": 13,
   "metadata": {},
   "outputs": [],
   "source": [
    "y=covid[\"total_cases\"]                                           #Target Variable(Dependent Variable)"
   ]
  },
  {
   "cell_type": "code",
   "execution_count": 14,
   "metadata": {},
   "outputs": [
    {
     "data": {
      "text/plain": [
       "20625    0.0\n",
       "20626    0.0\n",
       "20627    0.0\n",
       "20628    0.0\n",
       "20629    0.0\n",
       "Name: total_cases, dtype: float64"
      ]
     },
     "execution_count": 14,
     "metadata": {},
     "output_type": "execute_result"
    }
   ],
   "source": [
    "y.head()"
   ]
  },
  {
   "cell_type": "code",
   "execution_count": 15,
   "metadata": {},
   "outputs": [],
   "source": [
    "X=covid.drop(columns=[\"total_cases\"])                           #Feature Varaibles(Independent Variable)"
   ]
  },
  {
   "cell_type": "code",
   "execution_count": 16,
   "metadata": {},
   "outputs": [
    {
     "data": {
      "text/html": [
       "<div>\n",
       "<style scoped>\n",
       "    .dataframe tbody tr th:only-of-type {\n",
       "        vertical-align: middle;\n",
       "    }\n",
       "\n",
       "    .dataframe tbody tr th {\n",
       "        vertical-align: top;\n",
       "    }\n",
       "\n",
       "    .dataframe thead th {\n",
       "        text-align: right;\n",
       "    }\n",
       "</style>\n",
       "<table border=\"1\" class=\"dataframe\">\n",
       "  <thead>\n",
       "    <tr style=\"text-align: right;\">\n",
       "      <th></th>\n",
       "      <th>iso_code</th>\n",
       "      <th>continent</th>\n",
       "      <th>location</th>\n",
       "      <th>date</th>\n",
       "      <th>new_cases</th>\n",
       "      <th>total_deaths</th>\n",
       "      <th>new_deaths</th>\n",
       "      <th>total_cases_per_million</th>\n",
       "      <th>new_cases_per_million</th>\n",
       "      <th>total_deaths_per_million</th>\n",
       "      <th>...</th>\n",
       "      <th>aged_70_older</th>\n",
       "      <th>gdp_per_capita</th>\n",
       "      <th>extreme_poverty</th>\n",
       "      <th>cardiovasc_death_rate</th>\n",
       "      <th>diabetes_prevalence</th>\n",
       "      <th>female_smokers</th>\n",
       "      <th>male_smokers</th>\n",
       "      <th>handwashing_facilities</th>\n",
       "      <th>hospital_beds_per_thousand</th>\n",
       "      <th>life_expectancy</th>\n",
       "    </tr>\n",
       "  </thead>\n",
       "  <tbody>\n",
       "    <tr>\n",
       "      <td>20625</td>\n",
       "      <td>IND</td>\n",
       "      <td>Asia</td>\n",
       "      <td>India</td>\n",
       "      <td>2019-12-31</td>\n",
       "      <td>0.0</td>\n",
       "      <td>0.0</td>\n",
       "      <td>0.0</td>\n",
       "      <td>0.0</td>\n",
       "      <td>0.0</td>\n",
       "      <td>0.0</td>\n",
       "      <td>...</td>\n",
       "      <td>3.414</td>\n",
       "      <td>6426.674</td>\n",
       "      <td>21.2</td>\n",
       "      <td>282.28</td>\n",
       "      <td>10.39</td>\n",
       "      <td>1.9</td>\n",
       "      <td>20.6</td>\n",
       "      <td>59.55</td>\n",
       "      <td>0.53</td>\n",
       "      <td>69.66</td>\n",
       "    </tr>\n",
       "    <tr>\n",
       "      <td>20626</td>\n",
       "      <td>IND</td>\n",
       "      <td>Asia</td>\n",
       "      <td>India</td>\n",
       "      <td>2020-01-01</td>\n",
       "      <td>0.0</td>\n",
       "      <td>0.0</td>\n",
       "      <td>0.0</td>\n",
       "      <td>0.0</td>\n",
       "      <td>0.0</td>\n",
       "      <td>0.0</td>\n",
       "      <td>...</td>\n",
       "      <td>3.414</td>\n",
       "      <td>6426.674</td>\n",
       "      <td>21.2</td>\n",
       "      <td>282.28</td>\n",
       "      <td>10.39</td>\n",
       "      <td>1.9</td>\n",
       "      <td>20.6</td>\n",
       "      <td>59.55</td>\n",
       "      <td>0.53</td>\n",
       "      <td>69.66</td>\n",
       "    </tr>\n",
       "    <tr>\n",
       "      <td>20627</td>\n",
       "      <td>IND</td>\n",
       "      <td>Asia</td>\n",
       "      <td>India</td>\n",
       "      <td>2020-01-02</td>\n",
       "      <td>0.0</td>\n",
       "      <td>0.0</td>\n",
       "      <td>0.0</td>\n",
       "      <td>0.0</td>\n",
       "      <td>0.0</td>\n",
       "      <td>0.0</td>\n",
       "      <td>...</td>\n",
       "      <td>3.414</td>\n",
       "      <td>6426.674</td>\n",
       "      <td>21.2</td>\n",
       "      <td>282.28</td>\n",
       "      <td>10.39</td>\n",
       "      <td>1.9</td>\n",
       "      <td>20.6</td>\n",
       "      <td>59.55</td>\n",
       "      <td>0.53</td>\n",
       "      <td>69.66</td>\n",
       "    </tr>\n",
       "    <tr>\n",
       "      <td>20628</td>\n",
       "      <td>IND</td>\n",
       "      <td>Asia</td>\n",
       "      <td>India</td>\n",
       "      <td>2020-01-03</td>\n",
       "      <td>0.0</td>\n",
       "      <td>0.0</td>\n",
       "      <td>0.0</td>\n",
       "      <td>0.0</td>\n",
       "      <td>0.0</td>\n",
       "      <td>0.0</td>\n",
       "      <td>...</td>\n",
       "      <td>3.414</td>\n",
       "      <td>6426.674</td>\n",
       "      <td>21.2</td>\n",
       "      <td>282.28</td>\n",
       "      <td>10.39</td>\n",
       "      <td>1.9</td>\n",
       "      <td>20.6</td>\n",
       "      <td>59.55</td>\n",
       "      <td>0.53</td>\n",
       "      <td>69.66</td>\n",
       "    </tr>\n",
       "    <tr>\n",
       "      <td>20629</td>\n",
       "      <td>IND</td>\n",
       "      <td>Asia</td>\n",
       "      <td>India</td>\n",
       "      <td>2020-01-04</td>\n",
       "      <td>0.0</td>\n",
       "      <td>0.0</td>\n",
       "      <td>0.0</td>\n",
       "      <td>0.0</td>\n",
       "      <td>0.0</td>\n",
       "      <td>0.0</td>\n",
       "      <td>...</td>\n",
       "      <td>3.414</td>\n",
       "      <td>6426.674</td>\n",
       "      <td>21.2</td>\n",
       "      <td>282.28</td>\n",
       "      <td>10.39</td>\n",
       "      <td>1.9</td>\n",
       "      <td>20.6</td>\n",
       "      <td>59.55</td>\n",
       "      <td>0.53</td>\n",
       "      <td>69.66</td>\n",
       "    </tr>\n",
       "  </tbody>\n",
       "</table>\n",
       "<p>5 rows × 34 columns</p>\n",
       "</div>"
      ],
      "text/plain": [
       "      iso_code continent location        date  new_cases  total_deaths  \\\n",
       "20625      IND      Asia    India  2019-12-31        0.0           0.0   \n",
       "20626      IND      Asia    India  2020-01-01        0.0           0.0   \n",
       "20627      IND      Asia    India  2020-01-02        0.0           0.0   \n",
       "20628      IND      Asia    India  2020-01-03        0.0           0.0   \n",
       "20629      IND      Asia    India  2020-01-04        0.0           0.0   \n",
       "\n",
       "       new_deaths  total_cases_per_million  new_cases_per_million  \\\n",
       "20625         0.0                      0.0                    0.0   \n",
       "20626         0.0                      0.0                    0.0   \n",
       "20627         0.0                      0.0                    0.0   \n",
       "20628         0.0                      0.0                    0.0   \n",
       "20629         0.0                      0.0                    0.0   \n",
       "\n",
       "       total_deaths_per_million  ...  aged_70_older  gdp_per_capita  \\\n",
       "20625                       0.0  ...          3.414        6426.674   \n",
       "20626                       0.0  ...          3.414        6426.674   \n",
       "20627                       0.0  ...          3.414        6426.674   \n",
       "20628                       0.0  ...          3.414        6426.674   \n",
       "20629                       0.0  ...          3.414        6426.674   \n",
       "\n",
       "       extreme_poverty  cardiovasc_death_rate  diabetes_prevalence  \\\n",
       "20625             21.2                 282.28                10.39   \n",
       "20626             21.2                 282.28                10.39   \n",
       "20627             21.2                 282.28                10.39   \n",
       "20628             21.2                 282.28                10.39   \n",
       "20629             21.2                 282.28                10.39   \n",
       "\n",
       "       female_smokers  male_smokers  handwashing_facilities  \\\n",
       "20625             1.9          20.6                   59.55   \n",
       "20626             1.9          20.6                   59.55   \n",
       "20627             1.9          20.6                   59.55   \n",
       "20628             1.9          20.6                   59.55   \n",
       "20629             1.9          20.6                   59.55   \n",
       "\n",
       "      hospital_beds_per_thousand  life_expectancy  \n",
       "20625                       0.53            69.66  \n",
       "20626                       0.53            69.66  \n",
       "20627                       0.53            69.66  \n",
       "20628                       0.53            69.66  \n",
       "20629                       0.53            69.66  \n",
       "\n",
       "[5 rows x 34 columns]"
      ]
     },
     "execution_count": 16,
     "metadata": {},
     "output_type": "execute_result"
    }
   ],
   "source": [
    "X.head()"
   ]
  },
  {
   "cell_type": "code",
   "execution_count": 17,
   "metadata": {},
   "outputs": [
    {
     "data": {
      "text/plain": [
       "Index(['iso_code', 'continent', 'location', 'date', 'new_cases',\n",
       "       'total_deaths', 'new_deaths', 'total_cases_per_million',\n",
       "       'new_cases_per_million', 'total_deaths_per_million',\n",
       "       'new_deaths_per_million', 'new_tests', 'total_tests',\n",
       "       'total_tests_per_thousand', 'new_tests_per_thousand',\n",
       "       'new_tests_smoothed', 'new_tests_smoothed_per_thousand',\n",
       "       'tests_per_case', 'tests_units', 'stringency_index', 'population',\n",
       "       'population_density', 'median_age', 'aged_65_older', 'aged_70_older',\n",
       "       'gdp_per_capita', 'extreme_poverty', 'cardiovasc_death_rate',\n",
       "       'diabetes_prevalence', 'female_smokers', 'male_smokers',\n",
       "       'handwashing_facilities', 'hospital_beds_per_thousand',\n",
       "       'life_expectancy'],\n",
       "      dtype='object')"
      ]
     },
     "execution_count": 17,
     "metadata": {},
     "output_type": "execute_result"
    }
   ],
   "source": [
    "X.columns"
   ]
  },
  {
   "cell_type": "code",
   "execution_count": 18,
   "metadata": {},
   "outputs": [],
   "source": [
    "X=X.drop(columns=[\"iso_code\",\"continent\",\"location\",\"tests_units\"])                              #Unwanted Columns"
   ]
  },
  {
   "cell_type": "code",
   "execution_count": 19,
   "metadata": {},
   "outputs": [
    {
     "data": {
      "text/html": [
       "<div>\n",
       "<style scoped>\n",
       "    .dataframe tbody tr th:only-of-type {\n",
       "        vertical-align: middle;\n",
       "    }\n",
       "\n",
       "    .dataframe tbody tr th {\n",
       "        vertical-align: top;\n",
       "    }\n",
       "\n",
       "    .dataframe thead th {\n",
       "        text-align: right;\n",
       "    }\n",
       "</style>\n",
       "<table border=\"1\" class=\"dataframe\">\n",
       "  <thead>\n",
       "    <tr style=\"text-align: right;\">\n",
       "      <th></th>\n",
       "      <th>date</th>\n",
       "      <th>new_cases</th>\n",
       "      <th>total_deaths</th>\n",
       "      <th>new_deaths</th>\n",
       "      <th>total_cases_per_million</th>\n",
       "      <th>new_cases_per_million</th>\n",
       "      <th>total_deaths_per_million</th>\n",
       "      <th>new_deaths_per_million</th>\n",
       "      <th>new_tests</th>\n",
       "      <th>total_tests</th>\n",
       "      <th>...</th>\n",
       "      <th>aged_70_older</th>\n",
       "      <th>gdp_per_capita</th>\n",
       "      <th>extreme_poverty</th>\n",
       "      <th>cardiovasc_death_rate</th>\n",
       "      <th>diabetes_prevalence</th>\n",
       "      <th>female_smokers</th>\n",
       "      <th>male_smokers</th>\n",
       "      <th>handwashing_facilities</th>\n",
       "      <th>hospital_beds_per_thousand</th>\n",
       "      <th>life_expectancy</th>\n",
       "    </tr>\n",
       "  </thead>\n",
       "  <tbody>\n",
       "    <tr>\n",
       "      <td>20625</td>\n",
       "      <td>2019-12-31</td>\n",
       "      <td>0.0</td>\n",
       "      <td>0.0</td>\n",
       "      <td>0.0</td>\n",
       "      <td>0.0</td>\n",
       "      <td>0.0</td>\n",
       "      <td>0.0</td>\n",
       "      <td>0.0</td>\n",
       "      <td>NaN</td>\n",
       "      <td>NaN</td>\n",
       "      <td>...</td>\n",
       "      <td>3.414</td>\n",
       "      <td>6426.674</td>\n",
       "      <td>21.2</td>\n",
       "      <td>282.28</td>\n",
       "      <td>10.39</td>\n",
       "      <td>1.9</td>\n",
       "      <td>20.6</td>\n",
       "      <td>59.55</td>\n",
       "      <td>0.53</td>\n",
       "      <td>69.66</td>\n",
       "    </tr>\n",
       "    <tr>\n",
       "      <td>20626</td>\n",
       "      <td>2020-01-01</td>\n",
       "      <td>0.0</td>\n",
       "      <td>0.0</td>\n",
       "      <td>0.0</td>\n",
       "      <td>0.0</td>\n",
       "      <td>0.0</td>\n",
       "      <td>0.0</td>\n",
       "      <td>0.0</td>\n",
       "      <td>NaN</td>\n",
       "      <td>NaN</td>\n",
       "      <td>...</td>\n",
       "      <td>3.414</td>\n",
       "      <td>6426.674</td>\n",
       "      <td>21.2</td>\n",
       "      <td>282.28</td>\n",
       "      <td>10.39</td>\n",
       "      <td>1.9</td>\n",
       "      <td>20.6</td>\n",
       "      <td>59.55</td>\n",
       "      <td>0.53</td>\n",
       "      <td>69.66</td>\n",
       "    </tr>\n",
       "    <tr>\n",
       "      <td>20627</td>\n",
       "      <td>2020-01-02</td>\n",
       "      <td>0.0</td>\n",
       "      <td>0.0</td>\n",
       "      <td>0.0</td>\n",
       "      <td>0.0</td>\n",
       "      <td>0.0</td>\n",
       "      <td>0.0</td>\n",
       "      <td>0.0</td>\n",
       "      <td>NaN</td>\n",
       "      <td>NaN</td>\n",
       "      <td>...</td>\n",
       "      <td>3.414</td>\n",
       "      <td>6426.674</td>\n",
       "      <td>21.2</td>\n",
       "      <td>282.28</td>\n",
       "      <td>10.39</td>\n",
       "      <td>1.9</td>\n",
       "      <td>20.6</td>\n",
       "      <td>59.55</td>\n",
       "      <td>0.53</td>\n",
       "      <td>69.66</td>\n",
       "    </tr>\n",
       "    <tr>\n",
       "      <td>20628</td>\n",
       "      <td>2020-01-03</td>\n",
       "      <td>0.0</td>\n",
       "      <td>0.0</td>\n",
       "      <td>0.0</td>\n",
       "      <td>0.0</td>\n",
       "      <td>0.0</td>\n",
       "      <td>0.0</td>\n",
       "      <td>0.0</td>\n",
       "      <td>NaN</td>\n",
       "      <td>NaN</td>\n",
       "      <td>...</td>\n",
       "      <td>3.414</td>\n",
       "      <td>6426.674</td>\n",
       "      <td>21.2</td>\n",
       "      <td>282.28</td>\n",
       "      <td>10.39</td>\n",
       "      <td>1.9</td>\n",
       "      <td>20.6</td>\n",
       "      <td>59.55</td>\n",
       "      <td>0.53</td>\n",
       "      <td>69.66</td>\n",
       "    </tr>\n",
       "    <tr>\n",
       "      <td>20629</td>\n",
       "      <td>2020-01-04</td>\n",
       "      <td>0.0</td>\n",
       "      <td>0.0</td>\n",
       "      <td>0.0</td>\n",
       "      <td>0.0</td>\n",
       "      <td>0.0</td>\n",
       "      <td>0.0</td>\n",
       "      <td>0.0</td>\n",
       "      <td>NaN</td>\n",
       "      <td>NaN</td>\n",
       "      <td>...</td>\n",
       "      <td>3.414</td>\n",
       "      <td>6426.674</td>\n",
       "      <td>21.2</td>\n",
       "      <td>282.28</td>\n",
       "      <td>10.39</td>\n",
       "      <td>1.9</td>\n",
       "      <td>20.6</td>\n",
       "      <td>59.55</td>\n",
       "      <td>0.53</td>\n",
       "      <td>69.66</td>\n",
       "    </tr>\n",
       "  </tbody>\n",
       "</table>\n",
       "<p>5 rows × 30 columns</p>\n",
       "</div>"
      ],
      "text/plain": [
       "             date  new_cases  total_deaths  new_deaths  \\\n",
       "20625  2019-12-31        0.0           0.0         0.0   \n",
       "20626  2020-01-01        0.0           0.0         0.0   \n",
       "20627  2020-01-02        0.0           0.0         0.0   \n",
       "20628  2020-01-03        0.0           0.0         0.0   \n",
       "20629  2020-01-04        0.0           0.0         0.0   \n",
       "\n",
       "       total_cases_per_million  new_cases_per_million  \\\n",
       "20625                      0.0                    0.0   \n",
       "20626                      0.0                    0.0   \n",
       "20627                      0.0                    0.0   \n",
       "20628                      0.0                    0.0   \n",
       "20629                      0.0                    0.0   \n",
       "\n",
       "       total_deaths_per_million  new_deaths_per_million  new_tests  \\\n",
       "20625                       0.0                     0.0        NaN   \n",
       "20626                       0.0                     0.0        NaN   \n",
       "20627                       0.0                     0.0        NaN   \n",
       "20628                       0.0                     0.0        NaN   \n",
       "20629                       0.0                     0.0        NaN   \n",
       "\n",
       "       total_tests  ...  aged_70_older  gdp_per_capita  extreme_poverty  \\\n",
       "20625          NaN  ...          3.414        6426.674             21.2   \n",
       "20626          NaN  ...          3.414        6426.674             21.2   \n",
       "20627          NaN  ...          3.414        6426.674             21.2   \n",
       "20628          NaN  ...          3.414        6426.674             21.2   \n",
       "20629          NaN  ...          3.414        6426.674             21.2   \n",
       "\n",
       "       cardiovasc_death_rate  diabetes_prevalence  female_smokers  \\\n",
       "20625                 282.28                10.39             1.9   \n",
       "20626                 282.28                10.39             1.9   \n",
       "20627                 282.28                10.39             1.9   \n",
       "20628                 282.28                10.39             1.9   \n",
       "20629                 282.28                10.39             1.9   \n",
       "\n",
       "       male_smokers  handwashing_facilities  hospital_beds_per_thousand  \\\n",
       "20625          20.6                   59.55                        0.53   \n",
       "20626          20.6                   59.55                        0.53   \n",
       "20627          20.6                   59.55                        0.53   \n",
       "20628          20.6                   59.55                        0.53   \n",
       "20629          20.6                   59.55                        0.53   \n",
       "\n",
       "       life_expectancy  \n",
       "20625            69.66  \n",
       "20626            69.66  \n",
       "20627            69.66  \n",
       "20628            69.66  \n",
       "20629            69.66  \n",
       "\n",
       "[5 rows x 30 columns]"
      ]
     },
     "execution_count": 19,
     "metadata": {},
     "output_type": "execute_result"
    }
   ],
   "source": [
    "X.head()"
   ]
  },
  {
   "cell_type": "code",
   "execution_count": 20,
   "metadata": {},
   "outputs": [
    {
     "data": {
      "text/plain": [
       "(281, 30)"
      ]
     },
     "execution_count": 20,
     "metadata": {},
     "output_type": "execute_result"
    }
   ],
   "source": [
    "X.shape"
   ]
  },
  {
   "cell_type": "code",
   "execution_count": 21,
   "metadata": {},
   "outputs": [
    {
     "data": {
      "text/plain": [
       "(281,)"
      ]
     },
     "execution_count": 21,
     "metadata": {},
     "output_type": "execute_result"
    }
   ],
   "source": [
    "y.shape"
   ]
  },
  {
   "cell_type": "code",
   "execution_count": 22,
   "metadata": {},
   "outputs": [
    {
     "data": {
      "image/png": "[encoded data removed]",
      "text/plain": [
       "<Figure size 720x360 with 1 Axes>"
      ]
     },
     "metadata": {
      "needs_background": "light"
     },
     "output_type": "display_data"
    }
   ],
   "source": [
    "fig=plt.figure(figsize=(10,5))\n",
    "\n",
    "plt.plot(X[\"date\"],X[\"total_deaths\"],marker=\".\")\n",
    "plt.title(\"Date Vs Deaths\")\n",
    "plt.xlabel(\"Date\")\n",
    "plt.ylabel(\"No of Deaths\")\n",
    "plt.xticks([\"2019-12-31\",\"2020-01-31\",\"2020-02-28\",\"2020-03-31\",\"2020-04-30\",\"2020-05-31\",\"2020-06-30\",\"2020-07-31\",\n",
    "           \"2020-08-31\",\"2020-09-30\",\"2020-10-31\"],rotation=90)\n",
    "plt.show()"
   ]
  },
  {
   "cell_type": "code",
   "execution_count": 23,
   "metadata": {},
   "outputs": [
    {
     "data": {
      "image/png": "[encoded data removed]",
      "text/plain": [
       "<Figure size 720x360 with 1 Axes>"
      ]
     },
     "metadata": {
      "needs_background": "light"
     },
     "output_type": "display_data"
    }
   ],
   "source": [
    "fig=plt.figure(figsize=(10,5))\n",
    "\n",
    "plt.plot(X[\"date\"],X[\"new_cases\"])\n",
    "plt.title(\"Date Vs Deaths\")\n",
    "plt.xlabel(\"Date\")\n",
    "plt.ylabel(\"No of New Cases\")\n",
    "plt.xticks([\"2019-12-31\",\"2020-01-31\",\"2020-02-28\",\"2020-03-31\",\"2020-04-30\",\"2020-05-31\",\"2020-06-30\",\"2020-07-31\",\n",
    "           \"2020-08-31\",\"2020-09-30\",\"2020-10-31\"],rotation=90)\n",
    "plt.show()"
   ]
  },
  {
   "cell_type": "markdown",
   "metadata": {},
   "source": [
    "# Rules"
   ]
  },
  {
   "cell_type": "code",
   "execution_count": 24,
   "metadata": {},
   "outputs": [
    {
     "data": {
      "text/plain": [
       "date                                0\n",
       "new_cases                           0\n",
       "total_deaths                        0\n",
       "new_deaths                          0\n",
       "total_cases_per_million             0\n",
       "new_cases_per_million               0\n",
       "total_deaths_per_million            0\n",
       "new_deaths_per_million              0\n",
       "new_tests                          91\n",
       "total_tests                        85\n",
       "total_tests_per_thousand           85\n",
       "new_tests_per_thousand             91\n",
       "new_tests_smoothed                 80\n",
       "new_tests_smoothed_per_thousand    80\n",
       "tests_per_case                     80\n",
       "stringency_index                    0\n",
       "population                          0\n",
       "population_density                  0\n",
       "median_age                          0\n",
       "aged_65_older                       0\n",
       "aged_70_older                       0\n",
       "gdp_per_capita                      0\n",
       "extreme_poverty                     0\n",
       "cardiovasc_death_rate               0\n",
       "diabetes_prevalence                 0\n",
       "female_smokers                      0\n",
       "male_smokers                        0\n",
       "handwashing_facilities              0\n",
       "hospital_beds_per_thousand          0\n",
       "life_expectancy                     0\n",
       "dtype: int64"
      ]
     },
     "execution_count": 24,
     "metadata": {},
     "output_type": "execute_result"
    }
   ],
   "source": [
    "X.isna().sum()                                                      #Checking for Null values"
   ]
  },
  {
   "cell_type": "code",
   "execution_count": 25,
   "metadata": {},
   "outputs": [],
   "source": [
    "X[\"new_tests\"].fillna(method=\"ffill\",inplace=True)"
   ]
  },
  {
   "cell_type": "code",
   "execution_count": 26,
   "metadata": {},
   "outputs": [],
   "source": [
    "X[\"new_tests\"].fillna(value=0,inplace=True)"
   ]
  },
  {
   "cell_type": "code",
   "execution_count": 27,
   "metadata": {},
   "outputs": [],
   "source": [
    "X[\"total_tests\"].fillna(method=\"ffill\",inplace=True)"
   ]
  },
  {
   "cell_type": "code",
   "execution_count": 28,
   "metadata": {},
   "outputs": [],
   "source": [
    "X[\"total_tests\"].fillna(value=0,inplace=True)"
   ]
  },
  {
   "cell_type": "code",
   "execution_count": 29,
   "metadata": {},
   "outputs": [],
   "source": [
    "X[\"total_tests_per_thousand\"].fillna(method=\"ffill\",inplace=True)"
   ]
  },
  {
   "cell_type": "code",
   "execution_count": 30,
   "metadata": {},
   "outputs": [],
   "source": [
    "X[\"total_tests_per_thousand\"].fillna(value=0,inplace=True)"
   ]
  },
  {
   "cell_type": "code",
   "execution_count": 31,
   "metadata": {},
   "outputs": [],
   "source": [
    "X[\"new_tests_per_thousand\"].fillna(method=\"ffill\",inplace=True)"
   ]
  },
  {
   "cell_type": "code",
   "execution_count": 32,
   "metadata": {},
   "outputs": [],
   "source": [
    "X[\"new_tests_per_thousand\"].fillna(value=0,inplace=True)"
   ]
  },
  {
   "cell_type": "code",
   "execution_count": 33,
   "metadata": {},
   "outputs": [],
   "source": [
    "X[\"new_tests_smoothed\"].fillna(method=\"ffill\",inplace=True)"
   ]
  },
  {
   "cell_type": "code",
   "execution_count": 34,
   "metadata": {},
   "outputs": [],
   "source": [
    "X[\"new_tests_smoothed\"].fillna(value=0,inplace=True)"
   ]
  },
  {
   "cell_type": "code",
   "execution_count": 35,
   "metadata": {},
   "outputs": [],
   "source": [
    "X[\"new_tests_smoothed_per_thousand\"].fillna(method=\"ffill\",inplace=True)"
   ]
  },
  {
   "cell_type": "code",
   "execution_count": 36,
   "metadata": {},
   "outputs": [],
   "source": [
    "X[\"new_tests_smoothed_per_thousand\"].fillna(value=0,inplace=True)"
   ]
  },
  {
   "cell_type": "code",
   "execution_count": 37,
   "metadata": {},
   "outputs": [],
   "source": [
    "X[\"tests_per_case\"].fillna(method=\"ffill\",inplace=True)"
   ]
  },
  {
   "cell_type": "code",
   "execution_count": 38,
   "metadata": {},
   "outputs": [],
   "source": [
    "X[\"tests_per_case\"].fillna(value=0,inplace=True)"
   ]
  },
  {
   "cell_type": "code",
   "execution_count": 39,
   "metadata": {},
   "outputs": [
    {
     "data": {
      "text/plain": [
       "date                               0\n",
       "new_cases                          0\n",
       "total_deaths                       0\n",
       "new_deaths                         0\n",
       "total_cases_per_million            0\n",
       "new_cases_per_million              0\n",
       "total_deaths_per_million           0\n",
       "new_deaths_per_million             0\n",
       "new_tests                          0\n",
       "total_tests                        0\n",
       "total_tests_per_thousand           0\n",
       "new_tests_per_thousand             0\n",
       "new_tests_smoothed                 0\n",
       "new_tests_smoothed_per_thousand    0\n",
       "tests_per_case                     0\n",
       "stringency_index                   0\n",
       "population                         0\n",
       "population_density                 0\n",
       "median_age                         0\n",
       "aged_65_older                      0\n",
       "aged_70_older                      0\n",
       "gdp_per_capita                     0\n",
       "extreme_poverty                    0\n",
       "cardiovasc_death_rate              0\n",
       "diabetes_prevalence                0\n",
       "female_smokers                     0\n",
       "male_smokers                       0\n",
       "handwashing_facilities             0\n",
       "hospital_beds_per_thousand         0\n",
       "life_expectancy                    0\n",
       "dtype: int64"
      ]
     },
     "execution_count": 39,
     "metadata": {},
     "output_type": "execute_result"
    }
   ],
   "source": [
    "X.isna().sum()"
   ]
  },
  {
   "cell_type": "code",
   "execution_count": 40,
   "metadata": {},
   "outputs": [
    {
     "data": {
      "text/plain": [
       "0"
      ]
     },
     "execution_count": 40,
     "metadata": {},
     "output_type": "execute_result"
    }
   ],
   "source": [
    "y.isna().sum()"
   ]
  },
  {
   "cell_type": "code",
   "execution_count": 41,
   "metadata": {},
   "outputs": [
    {
     "data": {
      "text/plain": [
       "pandas.core.frame.DataFrame"
      ]
     },
     "execution_count": 41,
     "metadata": {},
     "output_type": "execute_result"
    }
   ],
   "source": [
    "type(X)                                                          #Type should be array or Dataframe"
   ]
  },
  {
   "cell_type": "code",
   "execution_count": 42,
   "metadata": {},
   "outputs": [
    {
     "data": {
      "text/plain": [
       "(281, 30)"
      ]
     },
     "execution_count": 42,
     "metadata": {},
     "output_type": "execute_result"
    }
   ],
   "source": [
    "X.shape                                                          #Shape should be in form of (rows,columns)"
   ]
  },
  {
   "cell_type": "code",
   "execution_count": 43,
   "metadata": {},
   "outputs": [
    {
     "data": {
      "text/plain": [
       "date                                object\n",
       "new_cases                          float64\n",
       "total_deaths                       float64\n",
       "new_deaths                         float64\n",
       "total_cases_per_million            float64\n",
       "new_cases_per_million              float64\n",
       "total_deaths_per_million           float64\n",
       "new_deaths_per_million             float64\n",
       "new_tests                          float64\n",
       "total_tests                        float64\n",
       "total_tests_per_thousand           float64\n",
       "new_tests_per_thousand             float64\n",
       "new_tests_smoothed                 float64\n",
       "new_tests_smoothed_per_thousand    float64\n",
       "tests_per_case                     float64\n",
       "stringency_index                   float64\n",
       "population                         float64\n",
       "population_density                 float64\n",
       "median_age                         float64\n",
       "aged_65_older                      float64\n",
       "aged_70_older                      float64\n",
       "gdp_per_capita                     float64\n",
       "extreme_poverty                    float64\n",
       "cardiovasc_death_rate              float64\n",
       "diabetes_prevalence                float64\n",
       "female_smokers                     float64\n",
       "male_smokers                       float64\n",
       "handwashing_facilities             float64\n",
       "hospital_beds_per_thousand         float64\n",
       "life_expectancy                    float64\n",
       "dtype: object"
      ]
     },
     "execution_count": 43,
     "metadata": {},
     "output_type": "execute_result"
    }
   ],
   "source": [
    "X.dtypes                                                         #Features should not be of dtype as str                 "
   ]
  },
  {
   "cell_type": "code",
   "execution_count": 44,
   "metadata": {},
   "outputs": [],
   "source": [
    "X[\"date\"]=pd.to_datetime(X[\"date\"])                             #Convert to DateTime(datetime64[ns])"
   ]
  },
  {
   "cell_type": "code",
   "execution_count": 47,
   "metadata": {},
   "outputs": [],
   "source": [
    "import datetime as dt    "
   ]
  },
  {
   "cell_type": "code",
   "execution_count": 48,
   "metadata": {},
   "outputs": [],
   "source": [
    "X[\"date\"]=X[\"date\"].map(dt.datetime.toordinal)                  #And then convert to Ordinal(int)"
   ]
  },
  {
   "cell_type": "code",
   "execution_count": 49,
   "metadata": {},
   "outputs": [
    {
     "data": {
      "text/plain": [
       "date                                 int64\n",
       "new_cases                          float64\n",
       "total_deaths                       float64\n",
       "new_deaths                         float64\n",
       "total_cases_per_million            float64\n",
       "new_cases_per_million              float64\n",
       "total_deaths_per_million           float64\n",
       "new_deaths_per_million             float64\n",
       "new_tests                          float64\n",
       "total_tests                        float64\n",
       "total_tests_per_thousand           float64\n",
       "new_tests_per_thousand             float64\n",
       "new_tests_smoothed                 float64\n",
       "new_tests_smoothed_per_thousand    float64\n",
       "tests_per_case                     float64\n",
       "stringency_index                   float64\n",
       "population                         float64\n",
       "population_density                 float64\n",
       "median_age                         float64\n",
       "aged_65_older                      float64\n",
       "aged_70_older                      float64\n",
       "gdp_per_capita                     float64\n",
       "extreme_poverty                    float64\n",
       "cardiovasc_death_rate              float64\n",
       "diabetes_prevalence                float64\n",
       "female_smokers                     float64\n",
       "male_smokers                       float64\n",
       "handwashing_facilities             float64\n",
       "hospital_beds_per_thousand         float64\n",
       "life_expectancy                    float64\n",
       "dtype: object"
      ]
     },
     "execution_count": 49,
     "metadata": {},
     "output_type": "execute_result"
    }
   ],
   "source": [
    "X.dtypes"
   ]
  },
  {
   "cell_type": "markdown",
   "metadata": {},
   "source": [
    "# Step 2"
   ]
  },
  {
   "cell_type": "code",
   "execution_count": 50,
   "metadata": {},
   "outputs": [],
   "source": [
    "from sklearn.model_selection import train_test_split"
   ]
  },
  {
   "cell_type": "code",
   "execution_count": 51,
   "metadata": {},
   "outputs": [],
   "source": [
    "X_train,X_test,y_train,y_test=train_test_split(X,y,test_size=0.33,random_state=42)"
   ]
  },
  {
   "cell_type": "markdown",
   "metadata": {},
   "source": [
    "# Feature Scaling on Training Dataset"
   ]
  },
  {
   "cell_type": "code",
   "execution_count": 52,
   "metadata": {},
   "outputs": [],
   "source": [
    "from sklearn.preprocessing import StandardScaler"
   ]
  },
  {
   "cell_type": "code",
   "execution_count": 53,
   "metadata": {},
   "outputs": [],
   "source": [
    "SS=StandardScaler()"
   ]
  },
  {
   "cell_type": "code",
   "execution_count": 54,
   "metadata": {},
   "outputs": [],
   "source": [
    "X_train_scaled=SS.fit_transform(X_train)"
   ]
  },
  {
   "cell_type": "code",
   "execution_count": 55,
   "metadata": {},
   "outputs": [],
   "source": [
    "X_train_scaled=pd.DataFrame(X_train_scaled)"
   ]
  },
  {
   "cell_type": "code",
   "execution_count": 56,
   "metadata": {},
   "outputs": [
    {
     "data": {
      "text/html": [
       "<div>\n",
       "<style scoped>\n",
       "    .dataframe tbody tr th:only-of-type {\n",
       "        vertical-align: middle;\n",
       "    }\n",
       "\n",
       "    .dataframe tbody tr th {\n",
       "        vertical-align: top;\n",
       "    }\n",
       "\n",
       "    .dataframe thead th {\n",
       "        text-align: right;\n",
       "    }\n",
       "</style>\n",
       "<table border=\"1\" class=\"dataframe\">\n",
       "  <thead>\n",
       "    <tr style=\"text-align: right;\">\n",
       "      <th></th>\n",
       "      <th>0</th>\n",
       "      <th>1</th>\n",
       "      <th>2</th>\n",
       "      <th>3</th>\n",
       "      <th>4</th>\n",
       "      <th>5</th>\n",
       "      <th>6</th>\n",
       "      <th>7</th>\n",
       "      <th>8</th>\n",
       "      <th>9</th>\n",
       "      <th>...</th>\n",
       "      <th>20</th>\n",
       "      <th>21</th>\n",
       "      <th>22</th>\n",
       "      <th>23</th>\n",
       "      <th>24</th>\n",
       "      <th>25</th>\n",
       "      <th>26</th>\n",
       "      <th>27</th>\n",
       "      <th>28</th>\n",
       "      <th>29</th>\n",
       "    </tr>\n",
       "  </thead>\n",
       "  <tbody>\n",
       "    <tr>\n",
       "      <td>0</td>\n",
       "      <td>-0.010473</td>\n",
       "      <td>-0.590713</td>\n",
       "      <td>-0.598084</td>\n",
       "      <td>-0.570020</td>\n",
       "      <td>-0.573783</td>\n",
       "      <td>-0.590735</td>\n",
       "      <td>-0.598089</td>\n",
       "      <td>-0.568911</td>\n",
       "      <td>-0.499521</td>\n",
       "      <td>-0.537756</td>\n",
       "      <td>...</td>\n",
       "      <td>-1.0</td>\n",
       "      <td>0.0</td>\n",
       "      <td>1.0</td>\n",
       "      <td>1.0</td>\n",
       "      <td>0.0</td>\n",
       "      <td>0.0</td>\n",
       "      <td>1.0</td>\n",
       "      <td>0.0</td>\n",
       "      <td>-1.0</td>\n",
       "      <td>1.0</td>\n",
       "    </tr>\n",
       "    <tr>\n",
       "      <td>1</td>\n",
       "      <td>0.478708</td>\n",
       "      <td>-0.193648</td>\n",
       "      <td>-0.164491</td>\n",
       "      <td>0.077659</td>\n",
       "      <td>-0.335400</td>\n",
       "      <td>-0.193636</td>\n",
       "      <td>-0.164503</td>\n",
       "      <td>0.078034</td>\n",
       "      <td>-0.217491</td>\n",
       "      <td>-0.269238</td>\n",
       "      <td>...</td>\n",
       "      <td>-1.0</td>\n",
       "      <td>0.0</td>\n",
       "      <td>1.0</td>\n",
       "      <td>1.0</td>\n",
       "      <td>0.0</td>\n",
       "      <td>0.0</td>\n",
       "      <td>1.0</td>\n",
       "      <td>0.0</td>\n",
       "      <td>-1.0</td>\n",
       "      <td>1.0</td>\n",
       "    </tr>\n",
       "    <tr>\n",
       "      <td>2</td>\n",
       "      <td>0.111822</td>\n",
       "      <td>-0.505507</td>\n",
       "      <td>-0.542379</td>\n",
       "      <td>-0.431878</td>\n",
       "      <td>-0.537180</td>\n",
       "      <td>-0.505527</td>\n",
       "      <td>-0.542380</td>\n",
       "      <td>-0.431396</td>\n",
       "      <td>-0.507739</td>\n",
       "      <td>-0.488610</td>\n",
       "      <td>...</td>\n",
       "      <td>-1.0</td>\n",
       "      <td>0.0</td>\n",
       "      <td>1.0</td>\n",
       "      <td>1.0</td>\n",
       "      <td>0.0</td>\n",
       "      <td>0.0</td>\n",
       "      <td>1.0</td>\n",
       "      <td>0.0</td>\n",
       "      <td>-1.0</td>\n",
       "      <td>1.0</td>\n",
       "    </tr>\n",
       "    <tr>\n",
       "      <td>3</td>\n",
       "      <td>-1.367950</td>\n",
       "      <td>-0.763186</td>\n",
       "      <td>-0.708753</td>\n",
       "      <td>-0.868948</td>\n",
       "      <td>-0.632716</td>\n",
       "      <td>-0.763187</td>\n",
       "      <td>-0.708754</td>\n",
       "      <td>-0.868943</td>\n",
       "      <td>-0.754677</td>\n",
       "      <td>-0.657323</td>\n",
       "      <td>...</td>\n",
       "      <td>-1.0</td>\n",
       "      <td>0.0</td>\n",
       "      <td>1.0</td>\n",
       "      <td>1.0</td>\n",
       "      <td>0.0</td>\n",
       "      <td>0.0</td>\n",
       "      <td>1.0</td>\n",
       "      <td>0.0</td>\n",
       "      <td>-1.0</td>\n",
       "      <td>1.0</td>\n",
       "    </tr>\n",
       "    <tr>\n",
       "      <td>4</td>\n",
       "      <td>1.420381</td>\n",
       "      <td>1.813879</td>\n",
       "      <td>1.893704</td>\n",
       "      <td>1.517952</td>\n",
       "      <td>1.953273</td>\n",
       "      <td>1.813882</td>\n",
       "      <td>1.893697</td>\n",
       "      <td>1.518814</td>\n",
       "      <td>1.998266</td>\n",
       "      <td>1.955639</td>\n",
       "      <td>...</td>\n",
       "      <td>-1.0</td>\n",
       "      <td>0.0</td>\n",
       "      <td>1.0</td>\n",
       "      <td>1.0</td>\n",
       "      <td>0.0</td>\n",
       "      <td>0.0</td>\n",
       "      <td>1.0</td>\n",
       "      <td>0.0</td>\n",
       "      <td>-1.0</td>\n",
       "      <td>1.0</td>\n",
       "    </tr>\n",
       "  </tbody>\n",
       "</table>\n",
       "<p>5 rows × 30 columns</p>\n",
       "</div>"
      ],
      "text/plain": [
       "         0         1         2         3         4         5         6   \\\n",
       "0 -0.010473 -0.590713 -0.598084 -0.570020 -0.573783 -0.590735 -0.598089   \n",
       "1  0.478708 -0.193648 -0.164491  0.077659 -0.335400 -0.193636 -0.164503   \n",
       "2  0.111822 -0.505507 -0.542379 -0.431878 -0.537180 -0.505527 -0.542380   \n",
       "3 -1.367950 -0.763186 -0.708753 -0.868948 -0.632716 -0.763187 -0.708754   \n",
       "4  1.420381  1.813879  1.893704  1.517952  1.953273  1.813882  1.893697   \n",
       "\n",
       "         7         8         9   ...   20   21   22   23   24   25   26   27  \\\n",
       "0 -0.568911 -0.499521 -0.537756  ... -1.0  0.0  1.0  1.0  0.0  0.0  1.0  0.0   \n",
       "1  0.078034 -0.217491 -0.269238  ... -1.0  0.0  1.0  1.0  0.0  0.0  1.0  0.0   \n",
       "2 -0.431396 -0.507739 -0.488610  ... -1.0  0.0  1.0  1.0  0.0  0.0  1.0  0.0   \n",
       "3 -0.868943 -0.754677 -0.657323  ... -1.0  0.0  1.0  1.0  0.0  0.0  1.0  0.0   \n",
       "4  1.518814  1.998266  1.955639  ... -1.0  0.0  1.0  1.0  0.0  0.0  1.0  0.0   \n",
       "\n",
       "    28   29  \n",
       "0 -1.0  1.0  \n",
       "1 -1.0  1.0  \n",
       "2 -1.0  1.0  \n",
       "3 -1.0  1.0  \n",
       "4 -1.0  1.0  \n",
       "\n",
       "[5 rows x 30 columns]"
      ]
     },
     "execution_count": 56,
     "metadata": {},
     "output_type": "execute_result"
    }
   ],
   "source": [
    "X_train_scaled.head()"
   ]
  },
  {
   "cell_type": "markdown",
   "metadata": {},
   "source": [
    "# Feature Scaling on Testing Dataset"
   ]
  },
  {
   "cell_type": "code",
   "execution_count": 57,
   "metadata": {},
   "outputs": [],
   "source": [
    "X_test_scaled=SS.transform(X_test)"
   ]
  },
  {
   "cell_type": "code",
   "execution_count": 58,
   "metadata": {},
   "outputs": [],
   "source": [
    "X_test_scaled=pd.DataFrame(X_test_scaled)"
   ]
  },
  {
   "cell_type": "code",
   "execution_count": 59,
   "metadata": {},
   "outputs": [
    {
     "data": {
      "text/html": [
       "<div>\n",
       "<style scoped>\n",
       "    .dataframe tbody tr th:only-of-type {\n",
       "        vertical-align: middle;\n",
       "    }\n",
       "\n",
       "    .dataframe tbody tr th {\n",
       "        vertical-align: top;\n",
       "    }\n",
       "\n",
       "    .dataframe thead th {\n",
       "        text-align: right;\n",
       "    }\n",
       "</style>\n",
       "<table border=\"1\" class=\"dataframe\">\n",
       "  <thead>\n",
       "    <tr style=\"text-align: right;\">\n",
       "      <th></th>\n",
       "      <th>0</th>\n",
       "      <th>1</th>\n",
       "      <th>2</th>\n",
       "      <th>3</th>\n",
       "      <th>4</th>\n",
       "      <th>5</th>\n",
       "      <th>6</th>\n",
       "      <th>7</th>\n",
       "      <th>8</th>\n",
       "      <th>9</th>\n",
       "      <th>...</th>\n",
       "      <th>20</th>\n",
       "      <th>21</th>\n",
       "      <th>22</th>\n",
       "      <th>23</th>\n",
       "      <th>24</th>\n",
       "      <th>25</th>\n",
       "      <th>26</th>\n",
       "      <th>27</th>\n",
       "      <th>28</th>\n",
       "      <th>29</th>\n",
       "    </tr>\n",
       "  </thead>\n",
       "  <tbody>\n",
       "    <tr>\n",
       "      <td>0</td>\n",
       "      <td>-1.343491</td>\n",
       "      <td>-0.763155</td>\n",
       "      <td>-0.708753</td>\n",
       "      <td>-0.868948</td>\n",
       "      <td>-0.632716</td>\n",
       "      <td>-0.763145</td>\n",
       "      <td>-0.708754</td>\n",
       "      <td>-0.868943</td>\n",
       "      <td>-0.754677</td>\n",
       "      <td>-0.657323</td>\n",
       "      <td>...</td>\n",
       "      <td>-1.0</td>\n",
       "      <td>0.0</td>\n",
       "      <td>1.0</td>\n",
       "      <td>1.0</td>\n",
       "      <td>0.0</td>\n",
       "      <td>0.0</td>\n",
       "      <td>1.0</td>\n",
       "      <td>0.0</td>\n",
       "      <td>-1.0</td>\n",
       "      <td>1.0</td>\n",
       "    </tr>\n",
       "    <tr>\n",
       "      <td>1</td>\n",
       "      <td>0.185199</td>\n",
       "      <td>-0.459168</td>\n",
       "      <td>-0.494760</td>\n",
       "      <td>-0.203153</td>\n",
       "      <td>-0.508587</td>\n",
       "      <td>-0.459189</td>\n",
       "      <td>-0.494762</td>\n",
       "      <td>-0.203247</td>\n",
       "      <td>-0.404486</td>\n",
       "      <td>-0.452153</td>\n",
       "      <td>...</td>\n",
       "      <td>-1.0</td>\n",
       "      <td>0.0</td>\n",
       "      <td>1.0</td>\n",
       "      <td>1.0</td>\n",
       "      <td>0.0</td>\n",
       "      <td>0.0</td>\n",
       "      <td>1.0</td>\n",
       "      <td>0.0</td>\n",
       "      <td>-1.0</td>\n",
       "      <td>1.0</td>\n",
       "    </tr>\n",
       "    <tr>\n",
       "      <td>2</td>\n",
       "      <td>1.298085</td>\n",
       "      <td>1.894534</td>\n",
       "      <td>1.532377</td>\n",
       "      <td>1.597214</td>\n",
       "      <td>1.477507</td>\n",
       "      <td>1.894549</td>\n",
       "      <td>1.532360</td>\n",
       "      <td>1.596947</td>\n",
       "      <td>1.938645</td>\n",
       "      <td>1.489671</td>\n",
       "      <td>...</td>\n",
       "      <td>-1.0</td>\n",
       "      <td>0.0</td>\n",
       "      <td>1.0</td>\n",
       "      <td>1.0</td>\n",
       "      <td>0.0</td>\n",
       "      <td>0.0</td>\n",
       "      <td>1.0</td>\n",
       "      <td>0.0</td>\n",
       "      <td>-1.0</td>\n",
       "      <td>1.0</td>\n",
       "    </tr>\n",
       "    <tr>\n",
       "      <td>3</td>\n",
       "      <td>1.432610</td>\n",
       "      <td>2.008030</td>\n",
       "      <td>1.935265</td>\n",
       "      <td>2.052401</td>\n",
       "      <td>2.000545</td>\n",
       "      <td>2.008018</td>\n",
       "      <td>1.935268</td>\n",
       "      <td>2.053247</td>\n",
       "      <td>2.047001</td>\n",
       "      <td>2.005613</td>\n",
       "      <td>...</td>\n",
       "      <td>-1.0</td>\n",
       "      <td>0.0</td>\n",
       "      <td>1.0</td>\n",
       "      <td>1.0</td>\n",
       "      <td>0.0</td>\n",
       "      <td>0.0</td>\n",
       "      <td>1.0</td>\n",
       "      <td>0.0</td>\n",
       "      <td>-1.0</td>\n",
       "      <td>1.0</td>\n",
       "    </tr>\n",
       "    <tr>\n",
       "      <td>4</td>\n",
       "      <td>-0.511883</td>\n",
       "      <td>-0.742338</td>\n",
       "      <td>-0.702342</td>\n",
       "      <td>-0.794216</td>\n",
       "      <td>-0.629354</td>\n",
       "      <td>-0.742352</td>\n",
       "      <td>-0.702351</td>\n",
       "      <td>-0.793935</td>\n",
       "      <td>-0.710199</td>\n",
       "      <td>-0.649436</td>\n",
       "      <td>...</td>\n",
       "      <td>-1.0</td>\n",
       "      <td>0.0</td>\n",
       "      <td>1.0</td>\n",
       "      <td>1.0</td>\n",
       "      <td>0.0</td>\n",
       "      <td>0.0</td>\n",
       "      <td>1.0</td>\n",
       "      <td>0.0</td>\n",
       "      <td>-1.0</td>\n",
       "      <td>1.0</td>\n",
       "    </tr>\n",
       "  </tbody>\n",
       "</table>\n",
       "<p>5 rows × 30 columns</p>\n",
       "</div>"
      ],
      "text/plain": [
       "         0         1         2         3         4         5         6   \\\n",
       "0 -1.343491 -0.763155 -0.708753 -0.868948 -0.632716 -0.763145 -0.708754   \n",
       "1  0.185199 -0.459168 -0.494760 -0.203153 -0.508587 -0.459189 -0.494762   \n",
       "2  1.298085  1.894534  1.532377  1.597214  1.477507  1.894549  1.532360   \n",
       "3  1.432610  2.008030  1.935265  2.052401  2.000545  2.008018  1.935268   \n",
       "4 -0.511883 -0.742338 -0.702342 -0.794216 -0.629354 -0.742352 -0.702351   \n",
       "\n",
       "         7         8         9   ...   20   21   22   23   24   25   26   27  \\\n",
       "0 -0.868943 -0.754677 -0.657323  ... -1.0  0.0  1.0  1.0  0.0  0.0  1.0  0.0   \n",
       "1 -0.203247 -0.404486 -0.452153  ... -1.0  0.0  1.0  1.0  0.0  0.0  1.0  0.0   \n",
       "2  1.596947  1.938645  1.489671  ... -1.0  0.0  1.0  1.0  0.0  0.0  1.0  0.0   \n",
       "3  2.053247  2.047001  2.005613  ... -1.0  0.0  1.0  1.0  0.0  0.0  1.0  0.0   \n",
       "4 -0.793935 -0.710199 -0.649436  ... -1.0  0.0  1.0  1.0  0.0  0.0  1.0  0.0   \n",
       "\n",
       "    28   29  \n",
       "0 -1.0  1.0  \n",
       "1 -1.0  1.0  \n",
       "2 -1.0  1.0  \n",
       "3 -1.0  1.0  \n",
       "4 -1.0  1.0  \n",
       "\n",
       "[5 rows x 30 columns]"
      ]
     },
     "execution_count": 59,
     "metadata": {},
     "output_type": "execute_result"
    }
   ],
   "source": [
    "X_test_scaled.head()"
   ]
  },
  {
   "cell_type": "markdown",
   "metadata": {},
   "source": [
    "# Step 3"
   ]
  },
  {
   "cell_type": "code",
   "execution_count": 60,
   "metadata": {},
   "outputs": [],
   "source": [
    "from sklearn.ensemble import RandomForestRegressor"
   ]
  },
  {
   "cell_type": "code",
   "execution_count": 61,
   "metadata": {},
   "outputs": [],
   "source": [
    "forest=RandomForestRegressor()"
   ]
  },
  {
   "cell_type": "code",
   "execution_count": 62,
   "metadata": {},
   "outputs": [
    {
     "name": "stderr",
     "output_type": "stream",
     "text": [
      "C:\\Users\\Dell\\Anaconda3\\lib\\site-packages\\sklearn\\ensemble\\forest.py:245: FutureWarning: The default value of n_estimators will change from 10 in version 0.20 to 100 in 0.22.\n",
      "  \"10 in version 0.20 to 100 in 0.22.\", FutureWarning)\n"
     ]
    },
    {
     "data": {
      "text/plain": [
       "RandomForestRegressor(bootstrap=True, criterion='mse', max_depth=None,\n",
       "                      max_features='auto', max_leaf_nodes=None,\n",
       "                      min_impurity_decrease=0.0, min_impurity_split=None,\n",
       "                      min_samples_leaf=1, min_samples_split=2,\n",
       "                      min_weight_fraction_leaf=0.0, n_estimators=10,\n",
       "                      n_jobs=None, oob_score=False, random_state=None,\n",
       "                      verbose=0, warm_start=False)"
      ]
     },
     "execution_count": 62,
     "metadata": {},
     "output_type": "execute_result"
    }
   ],
   "source": [
    "forest.fit(X_train,y_train)"
   ]
  },
  {
   "cell_type": "markdown",
   "metadata": {},
   "source": [
    "# Step 4"
   ]
  },
  {
   "cell_type": "markdown",
   "metadata": {},
   "source": [
    "# Evaluate"
   ]
  },
  {
   "cell_type": "code",
   "execution_count": 63,
   "metadata": {},
   "outputs": [
    {
     "data": {
      "text/plain": [
       "0.9993605350617649"
      ]
     },
     "execution_count": 63,
     "metadata": {},
     "output_type": "execute_result"
    }
   ],
   "source": [
    "forest.score(X_test,y_test)"
   ]
  },
  {
   "cell_type": "markdown",
   "metadata": {},
   "source": [
    "# Predict"
   ]
  },
  {
   "cell_type": "code",
   "execution_count": 66,
   "metadata": {},
   "outputs": [],
   "source": [
    "y_pred=forest.predict(X_test)"
   ]
  },
  {
   "cell_type": "code",
   "execution_count": 67,
   "metadata": {},
   "outputs": [
    {
     "data": {
      "text/plain": [
       "array([1.8000000e+00, 2.5366590e+05, 4.0958435e+06, 5.0639987e+06,\n",
       "       6.0595000e+03])"
      ]
     },
     "execution_count": 67,
     "metadata": {},
     "output_type": "execute_result"
    }
   ],
   "source": [
    "y_pred[:5]"
   ]
  },
  {
   "cell_type": "markdown",
   "metadata": {},
   "source": [
    "# Predicting on New DataFrame"
   ]
  },
  {
   "cell_type": "code",
   "execution_count": 80,
   "metadata": {},
   "outputs": [],
   "source": [
    "data=X.iloc[250]                                            #Subsetting 250th Row"
   ]
  },
  {
   "cell_type": "code",
   "execution_count": 81,
   "metadata": {},
   "outputs": [],
   "source": [
    "date=pd.datetime(year=2020,month=11,day=13).toordinal()"
   ]
  },
  {
   "cell_type": "code",
   "execution_count": 82,
   "metadata": {},
   "outputs": [
    {
     "data": {
      "text/plain": [
       "737742"
      ]
     },
     "execution_count": 82,
     "metadata": {},
     "output_type": "execute_result"
    }
   ],
   "source": [
    "date"
   ]
  },
  {
   "cell_type": "code",
   "execution_count": 83,
   "metadata": {},
   "outputs": [
    {
     "name": "stderr",
     "output_type": "stream",
     "text": [
      "C:\\Users\\Dell\\Anaconda3\\lib\\site-packages\\pandas\\core\\indexing.py:205: SettingWithCopyWarning: \n",
      "A value is trying to be set on a copy of a slice from a DataFrame\n",
      "\n",
      "See the caveats in the documentation: http://pandas.pydata.org/pandas-docs/stable/user_guide/indexing.html#returning-a-view-versus-a-copy\n",
      "  self._setitem_with_indexer(indexer, value)\n",
      "C:\\Users\\Dell\\Anaconda3\\lib\\site-packages\\ipykernel_launcher.py:1: SettingWithCopyWarning: \n",
      "A value is trying to be set on a copy of a slice from a DataFrame\n",
      "\n",
      "See the caveats in the documentation: http://pandas.pydata.org/pandas-docs/stable/user_guide/indexing.html#returning-a-view-versus-a-copy\n",
      "  \"\"\"Entry point for launching an IPython kernel.\n"
     ]
    }
   ],
   "source": [
    "data.iloc[0]=737742                                         #Change the value of 1st column"
   ]
  },
  {
   "cell_type": "code",
   "execution_count": 84,
   "metadata": {},
   "outputs": [
    {
     "data": {
      "text/plain": [
       "date                               7.377420e+05\n",
       "new_cases                          9.063200e+04\n",
       "total_deaths                       7.062600e+04\n",
       "new_deaths                         1.065000e+03\n",
       "total_cases_per_million            2.981013e+03\n",
       "new_cases_per_million              6.567500e+01\n",
       "total_deaths_per_million           5.117800e+01\n",
       "new_deaths_per_million             7.720000e-01\n",
       "new_tests                          7.203620e+05\n",
       "total_tests                        4.955151e+07\n",
       "total_tests_per_thousand           3.590700e+01\n",
       "new_tests_per_thousand             5.220000e-01\n",
       "new_tests_smoothed                 1.034799e+06\n",
       "new_tests_smoothed_per_thousand    7.500000e-01\n",
       "tests_per_case                     1.268400e+01\n",
       "stringency_index                   8.102000e+01\n",
       "population                         1.380004e+09\n",
       "population_density                 4.504190e+02\n",
       "median_age                         2.820000e+01\n",
       "aged_65_older                      5.989000e+00\n",
       "aged_70_older                      3.414000e+00\n",
       "gdp_per_capita                     6.426674e+03\n",
       "extreme_poverty                    2.120000e+01\n",
       "cardiovasc_death_rate              2.822800e+02\n",
       "diabetes_prevalence                1.039000e+01\n",
       "female_smokers                     1.900000e+00\n",
       "male_smokers                       2.060000e+01\n",
       "handwashing_facilities             5.955000e+01\n",
       "hospital_beds_per_thousand         5.300000e-01\n",
       "life_expectancy                    6.966000e+01\n",
       "Name: 20875, dtype: float64"
      ]
     },
     "execution_count": 84,
     "metadata": {},
     "output_type": "execute_result"
    }
   ],
   "source": [
    "data"
   ]
  },
  {
   "cell_type": "code",
   "execution_count": 85,
   "metadata": {},
   "outputs": [],
   "source": [
    "data=data.values"
   ]
  },
  {
   "cell_type": "code",
   "execution_count": 86,
   "metadata": {},
   "outputs": [
    {
     "data": {
      "text/plain": [
       "(30,)"
      ]
     },
     "execution_count": 86,
     "metadata": {},
     "output_type": "execute_result"
    }
   ],
   "source": [
    "data.shape"
   ]
  },
  {
   "cell_type": "code",
   "execution_count": 87,
   "metadata": {},
   "outputs": [],
   "source": [
    "data=data.reshape(1,30)"
   ]
  },
  {
   "cell_type": "code",
   "execution_count": 88,
   "metadata": {},
   "outputs": [
    {
     "data": {
      "text/plain": [
       "(1, 30)"
      ]
     },
     "execution_count": 88,
     "metadata": {},
     "output_type": "execute_result"
    }
   ],
   "source": [
    "data.shape"
   ]
  },
  {
   "cell_type": "code",
   "execution_count": 89,
   "metadata": {},
   "outputs": [],
   "source": [
    "data=pd.DataFrame(data)"
   ]
  },
  {
   "cell_type": "code",
   "execution_count": 90,
   "metadata": {},
   "outputs": [
    {
     "data": {
      "text/html": [
       "<div>\n",
       "<style scoped>\n",
       "    .dataframe tbody tr th:only-of-type {\n",
       "        vertical-align: middle;\n",
       "    }\n",
       "\n",
       "    .dataframe tbody tr th {\n",
       "        vertical-align: top;\n",
       "    }\n",
       "\n",
       "    .dataframe thead th {\n",
       "        text-align: right;\n",
       "    }\n",
       "</style>\n",
       "<table border=\"1\" class=\"dataframe\">\n",
       "  <thead>\n",
       "    <tr style=\"text-align: right;\">\n",
       "      <th></th>\n",
       "      <th>0</th>\n",
       "      <th>1</th>\n",
       "      <th>2</th>\n",
       "      <th>3</th>\n",
       "      <th>4</th>\n",
       "      <th>5</th>\n",
       "      <th>6</th>\n",
       "      <th>7</th>\n",
       "      <th>8</th>\n",
       "      <th>9</th>\n",
       "      <th>...</th>\n",
       "      <th>20</th>\n",
       "      <th>21</th>\n",
       "      <th>22</th>\n",
       "      <th>23</th>\n",
       "      <th>24</th>\n",
       "      <th>25</th>\n",
       "      <th>26</th>\n",
       "      <th>27</th>\n",
       "      <th>28</th>\n",
       "      <th>29</th>\n",
       "    </tr>\n",
       "  </thead>\n",
       "  <tbody>\n",
       "    <tr>\n",
       "      <td>0</td>\n",
       "      <td>737742.0</td>\n",
       "      <td>90632.0</td>\n",
       "      <td>70626.0</td>\n",
       "      <td>1065.0</td>\n",
       "      <td>2981.013</td>\n",
       "      <td>65.675</td>\n",
       "      <td>51.178</td>\n",
       "      <td>0.772</td>\n",
       "      <td>720362.0</td>\n",
       "      <td>49551507.0</td>\n",
       "      <td>...</td>\n",
       "      <td>3.414</td>\n",
       "      <td>6426.674</td>\n",
       "      <td>21.2</td>\n",
       "      <td>282.28</td>\n",
       "      <td>10.39</td>\n",
       "      <td>1.9</td>\n",
       "      <td>20.6</td>\n",
       "      <td>59.55</td>\n",
       "      <td>0.53</td>\n",
       "      <td>69.66</td>\n",
       "    </tr>\n",
       "  </tbody>\n",
       "</table>\n",
       "<p>1 rows × 30 columns</p>\n",
       "</div>"
      ],
      "text/plain": [
       "         0        1        2       3         4       5       6      7   \\\n",
       "0  737742.0  90632.0  70626.0  1065.0  2981.013  65.675  51.178  0.772   \n",
       "\n",
       "         8           9   ...     20        21    22      23     24   25    26  \\\n",
       "0  720362.0  49551507.0  ...  3.414  6426.674  21.2  282.28  10.39  1.9  20.6   \n",
       "\n",
       "      27    28     29  \n",
       "0  59.55  0.53  69.66  \n",
       "\n",
       "[1 rows x 30 columns]"
      ]
     },
     "execution_count": 90,
     "metadata": {},
     "output_type": "execute_result"
    }
   ],
   "source": [
    "data"
   ]
  },
  {
   "cell_type": "code",
   "execution_count": 91,
   "metadata": {},
   "outputs": [
    {
     "data": {
      "text/plain": [
       "array([4195211.6])"
      ]
     },
     "execution_count": 91,
     "metadata": {},
     "output_type": "execute_result"
    }
   ],
   "source": [
    "forest.predict(data)                                               #Total cases on 2020-11-13"
   ]
  },
  {
   "cell_type": "code",
   "execution_count": null,
   "metadata": {},
   "outputs": [],
   "source": []
  }
 ],
 "metadata": {
  "kernelspec": {
   "display_name": "Python 3",
   "language": "python",
   "name": "python3"
  },
  "language_info": {
   "codemirror_mode": {
    "name": "ipython",
    "version": 3
   },
   "file_extension": ".py",
   "mimetype": "text/x-python",
   "name": "python",
   "nbconvert_exporter": "python",
   "pygments_lexer": "ipython3",
   "version": "3.7.4"
  }
 },
 "nbformat": 4,
 "nbformat_minor": 2
}
